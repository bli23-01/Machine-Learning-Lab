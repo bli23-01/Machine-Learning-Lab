{
  "nbformat": 4,
  "nbformat_minor": 0,
  "metadata": {
    "colab": {
      "name": "L4Fisher线性判别.ipynb",
      "provenance": [],
      "collapsed_sections": []
    },
    "kernelspec": {
      "name": "python3",
      "display_name": "Python 3"
    },
    "language_info": {
      "name": "python"
    }
  },
  "cells": [
    {
      "cell_type": "markdown",
      "metadata": {
        "id": "mpoY8XXzAMrD"
      },
      "source": [
        "# L4Fisher"
      ]
    },
    {
      "cell_type": "markdown",
      "metadata": {
        "id": "GTVW502isMzc"
      },
      "source": [
        "1. 实现Fisher线性判别算法"
      ]
    },
    {
      "cell_type": "code",
      "metadata": {
        "colab": {
          "base_uri": "https://localhost:8080/"
        },
        "id": "0KQ6mGCgZnmk",
        "outputId": "841eb710-6067-4f4b-a056-bc7705eeed33"
      },
      "source": [
        "import numpy as np\n",
        "import matplotlib.pyplot as plt\n",
        "import random\n",
        "import time\n",
        "import math\n",
        "\n",
        "data1 = [\n",
        "  [5, 37, 1],\n",
        "  [7, 30, 1],\n",
        "  [10, 35, 1],\n",
        "  [11.5, 40, 1],\n",
        "  [14, 38, 1],\n",
        "  [12, 31, 1],\n",
        "\n",
        "]\n",
        "data2 = [\n",
        "  [35, 21.5, -1],\n",
        "  [39, 21.7, -1],\n",
        "  [34, 16, -1],\n",
        "  [37, 17, -1]\n",
        "]\n",
        "data1 = np.array(data1)\n",
        "data2 = np.array(data2)\n",
        "X1 = data1[:,:-1]\n",
        "X2 = data2[:,:-1]\n",
        "def Fisher():\n",
        "  mean1 = 0     #期望\n",
        "  mean2 = 0\n",
        "  for i in range(0,len(X1)):\n",
        "    mean1 += X1[i]\n",
        "  for i in range(0,len(X2)):\n",
        "    mean2 += X2[i]\n",
        "  mean1 /= len(X1)    #协方差 \n",
        "  mean2 /= len(X2)\n",
        "\n",
        "  covariance1 = 0 \n",
        "  covariance2 = 0\n",
        "  for i in range(0,len(X1)):\n",
        "    covariance1 += np.transpose(np.mat(X1[i] - mean1)) * np.mat(X1[i] - mean1)\n",
        "  for i in range(0,len(X2)):\n",
        "    covariance2 += np.transpose(np.mat(X2[i] - mean2)) * np.mat(X2[i] - mean2) \n",
        "  Sw = covariance1 + covariance2    #类内总离差\n",
        "  Sw_inverse = np.linalg.inv(Sw)      #类内总离差逆\n",
        "  \n",
        "  W = Sw_inverse * np.transpose(np.mat(mean1 - mean2))  #W最佳投影\n",
        "  S_threshold = np.transpose(W) * np.transpose(np.mat(mean1 + mean2))/2 #门限\n",
        "\n",
        "  print(\"最佳门限投影W*:\\n\",W)\n",
        "  print(\"判别门限s'\",S_threshold)\n",
        "\n",
        "Fisher()"
      ],
      "execution_count": null,
      "outputs": [
        {
          "output_type": "stream",
          "name": "stdout",
          "text": [
            "最佳门限投影W*:\n",
            " [[-0.47041598]\n",
            " [ 0.26964033]]\n",
            "判别门限s' [[-3.54926888]]\n"
          ]
        }
      ]
    },
    {
      "cell_type": "markdown",
      "metadata": {
        "id": "3lLfNCY2sRon"
      },
      "source": [
        "2. 产生两个都具有200个二维向量的数据集X1和X2的数据集进行Fisher线性判别算法应用"
      ]
    },
    {
      "cell_type": "code",
      "metadata": {
        "colab": {
          "base_uri": "https://localhost:8080/",
          "height": 621
        },
        "id": "cYU9u-NisqLv",
        "outputId": "52e2ee57-17a9-4e9a-81e9-191314b53d20"
      },
      "source": [
        "import numpy as np\n",
        "import matplotlib.pyplot as plt\n",
        "import random\n",
        "import time\n",
        "import math\n",
        "\n",
        "X1 = np.random.multivariate_normal((-5,0), [[1,0],[0,1]], (200,), 'ignore') #二维正态分布\n",
        "\n",
        "X2 = np.random.multivariate_normal((0,5), [[1,0],[0,1]], (200,), 'ignore')\n",
        "\n",
        "X1_train = X1[:-40]\n",
        "X1_test = X1[-40:]\n",
        "X2_train = X2[:-40]\n",
        "X2_test = X2[-40:]\n",
        "\n",
        "\n",
        "data_fisher_train1 = np.vstack(np.c_[X1_train, np.ones(len(X1_train))])\n",
        "data_fisher_train2 = np.vstack(np.c_[X2_train, [-1] * len(X2_train)])   \n",
        "data_fisher_test1 = np.vstack(np.c_[X1_test, np.ones(len(X1_test))])\n",
        "data_fisher_test2 = np.vstack(np.c_[X2_test, [-1] * len(X2_test)])   \n",
        "\n",
        "\n",
        "data_fisher_train1 = np.array(data_fisher_train1)\n",
        "data_fisher_train2 = np.array(data_fisher_train2)\n",
        "X1 = data_fisher_train1[:,:-1]\n",
        "X2 = data_fisher_train2[:,:-1]\n",
        "X1_test = data_fisher_test1[:,:-1]\n",
        "X2_test = data_fisher_test2[:,:-1]\n",
        "\n",
        "def Fisher():\n",
        "  mean1 = 0     #期望\n",
        "  mean2 = 0\n",
        "  for i in range(0,len(X1)):\n",
        "    mean1 += X1[i]\n",
        "  for i in range(0,len(X2)):\n",
        "    mean2 += X2[i]\n",
        "  mean1 /= len(X1)    #协方差 \n",
        "  mean2 /= len(X2)\n",
        "\n",
        "  covariance1 = 0 \n",
        "  covariance2 = 0\n",
        "  for i in range(0,len(X1)):\n",
        "    covariance1 += np.transpose(np.mat(X1[i] - mean1)) * np.mat(X1[i] - mean1)\n",
        "  for i in range(0,len(X2)):\n",
        "    covariance2 += np.transpose(np.mat(X2[i] - mean2)) * np.mat(X2[i] - mean2) \n",
        "  Sw = covariance1 + covariance2    #类内总离差\n",
        "  Sw_inverse = np.linalg.inv(Sw)      #类内总离差逆\n",
        "  \n",
        "  W = Sw_inverse * np.transpose(np.mat(mean1 - mean2))  #W最佳投影\n",
        "  S_threshold = np.transpose(W) * np.transpose(np.mat(mean1 + mean2))/2 #门限\n",
        "\n",
        "  acc = 0\n",
        "  for i in range(0, len(X1)):\n",
        "    if np.transpose(W) * np.transpose(np.mat(X1[i])) > S_threshold:\n",
        "      acc += 1\n",
        "  for i in range(0, len(X2)):\n",
        "    if np.transpose(W) * np.transpose(np.mat(X2[i])) < S_threshold:\n",
        "      acc += 1\n",
        "  print(\"最佳门限投影W*:\\n\",W)\n",
        "  print(\"判别门限s'\",S_threshold)\n",
        "  print(\"train acc:\",acc/(len(X1)+len(X2)))\n",
        "\n",
        "  plot_x = np.linspace(-5,5,1000)\n",
        "  plot_y = W[0,0]/W[1,0]*plot_x\n",
        "  plt.plot(plot_x, plot_y, 'r')\n",
        "\n",
        "  plt.scatter(X1[:,0],X1[:,1])\n",
        "  plt.scatter(X2[:,0],X2[:,1])\n",
        "  plt.show()\n",
        "  return W, S_threshold\n",
        "\n",
        "def Fisher_test(W, S_threshold):\n",
        "  acc = 0\n",
        "  for i in range(0, len(X1_test)):\n",
        "    if np.transpose(W) * np.transpose(np.mat(X1_test[i])) > S_threshold:\n",
        "      acc += 1\n",
        "  for i in range(0, len(X2_test)):\n",
        "    if np.transpose(W) * np.transpose(np.mat(X2_test[i])) < S_threshold:\n",
        "      acc += 1\n",
        "\n",
        "  print(\"test acc:\",acc/(len(X1_test)+len(X2_test)))\n",
        "  plot_x = np.linspace(-5,5,1000)\n",
        "  plot_y = W[0,0]/W[1,0]*plot_x\n",
        "  plt.plot(plot_x, plot_y, 'r')\n",
        "  plt.scatter(X1_test[:,0],X1_test[:,1])\n",
        "  plt.scatter(X2_test[:,0],X2_test[:,1])\n",
        "  plt.show()\n",
        "  \n",
        "\n",
        "W, S_threshold = Fisher()\n",
        "Fisher_test(W, S_threshold)"
      ],
      "execution_count": null,
      "outputs": [
        {
          "output_type": "stream",
          "name": "stdout",
          "text": [
            "最佳门限投影W*:\n",
            " [[-0.01731248]\n",
            " [-0.01525097]]\n",
            "判别门限s' [[0.00353157]]\n",
            "train acc: 1.0\n"
          ]
        },
        {
          "output_type": "display_data",
          "data": {
            "image/png": "[encoded data removed]",
            "text/plain": [
              "<Figure size 432x288 with 1 Axes>"
            ]
          },
          "metadata": {
            "needs_background": "light"
          }
        },
        {
          "output_type": "stream",
          "name": "stdout",
          "text": [
            "test acc: 1.0\n"
          ]
        },
        {
          "output_type": "display_data",
          "data": {
            "image/png": "[encoded data removed]",
            "text/plain": [
              "<Figure size 432x288 with 1 Axes>"
            ]
          },
          "metadata": {
            "needs_background": "light"
          }
        }
      ]
    }
  ]
}