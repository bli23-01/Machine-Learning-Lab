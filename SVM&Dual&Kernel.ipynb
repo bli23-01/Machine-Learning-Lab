{
  "nbformat": 4,
  "nbformat_minor": 0,
  "metadata": {
    "colab": {
      "name": "L7-8自实1901何金津.ipynb",
      "provenance": [],
      "collapsed_sections": []
    },
    "kernelspec": {
      "display_name": "Python 3",
      "name": "python3"
    },
    "language_info": {
      "name": "python"
    },
    "widgets": {
      "application/vnd.jupyter.widget-state+json": {
        "2b3cd6f3156b45e9915375950444172d": {
          "model_module": "@jupyter-widgets/controls",
          "model_name": "HBoxModel",
          "model_module_version": "1.5.0",
          "state": {
            "_view_name": "HBoxView",
            "_dom_classes": [],
            "_model_name": "HBoxModel",
            "_view_module": "@jupyter-widgets/controls",
            "_model_module_version": "1.5.0",
            "_view_count": null,
            "_view_module_version": "1.5.0",
            "box_style": "",
            "layout": "IPY_MODEL_e16bb3553a8044fe982030f738b90c3f",
            "_model_module": "@jupyter-widgets/controls",
            "children": [
              "IPY_MODEL_14d89f1057844f4485f4f3348b674067",
              "IPY_MODEL_10bacd1bb30e4e168df560c37e75b7d4",
              "IPY_MODEL_c7ba2ac0677f47ffb124ad2d135de381"
            ]
          }
        },
        "e16bb3553a8044fe982030f738b90c3f": {
          "model_module": "@jupyter-widgets/base",
          "model_name": "LayoutModel",
          "model_module_version": "1.2.0",
          "state": {
            "_view_name": "LayoutView",
            "grid_template_rows": null,
            "right": null,
            "justify_content": null,
            "_view_module": "@jupyter-widgets/base",
            "overflow": null,
            "_model_module_version": "1.2.0",
            "_view_count": null,
            "flex_flow": null,
            "width": null,
            "min_width": null,
            "border": null,
            "align_items": null,
            "bottom": null,
            "_model_module": "@jupyter-widgets/base",
            "top": null,
            "grid_column": null,
            "overflow_y": null,
            "overflow_x": null,
            "grid_auto_flow": null,
            "grid_area": null,
            "grid_template_columns": null,
            "flex": null,
            "_model_name": "LayoutModel",
            "justify_items": null,
            "grid_row": null,
            "max_height": null,
            "align_content": null,
            "visibility": null,
            "align_self": null,
            "height": null,
            "min_height": null,
            "padding": null,
            "grid_auto_rows": null,
            "grid_gap": null,
            "max_width": null,
            "order": null,
            "_view_module_version": "1.2.0",
            "grid_template_areas": null,
            "object_position": null,
            "object_fit": null,
            "grid_auto_columns": null,
            "margin": null,
            "display": null,
            "left": null
          }
        },
        "14d89f1057844f4485f4f3348b674067": {
          "model_module": "@jupyter-widgets/controls",
          "model_name": "HTMLModel",
          "model_module_version": "1.5.0",
          "state": {
            "_view_name": "HTMLView",
            "style": "IPY_MODEL_84ae30fadf3e4e8fbb6203c88919cd94",
            "_dom_classes": [],
            "description": "",
            "_model_name": "HTMLModel",
            "placeholder": "​",
            "_view_module": "@jupyter-widgets/controls",
            "_model_module_version": "1.5.0",
            "value": "100%",
            "_view_count": null,
            "_view_module_version": "1.5.0",
            "description_tooltip": null,
            "_model_module": "@jupyter-widgets/controls",
            "layout": "IPY_MODEL_a4fb1bd99f1e4bd89444fc8fa6223e06"
          }
        },
        "10bacd1bb30e4e168df560c37e75b7d4": {
          "model_module": "@jupyter-widgets/controls",
          "model_name": "FloatProgressModel",
          "model_module_version": "1.5.0",
          "state": {
            "_view_name": "ProgressView",
            "style": "IPY_MODEL_1cdfcf9fc5b640dfa6e981bdcca0f08c",
            "_dom_classes": [],
            "description": "",
            "_model_name": "FloatProgressModel",
            "bar_style": "success",
            "max": 1000000,
            "_view_module": "@jupyter-widgets/controls",
            "_model_module_version": "1.5.0",
            "value": 1000000,
            "_view_count": null,
            "_view_module_version": "1.5.0",
            "orientation": "horizontal",
            "min": 0,
            "description_tooltip": null,
            "_model_module": "@jupyter-widgets/controls",
            "layout": "IPY_MODEL_5a012c40fd87430d801850a5c59db787"
          }
        },
        "c7ba2ac0677f47ffb124ad2d135de381": {
          "model_module": "@jupyter-widgets/controls",
          "model_name": "HTMLModel",
          "model_module_version": "1.5.0",
          "state": {
            "_view_name": "HTMLView",
            "style": "IPY_MODEL_0de00fe5732b408aaea23c43f6bbcc13",
            "_dom_classes": [],
            "description": "",
            "_model_name": "HTMLModel",
            "placeholder": "​",
            "_view_module": "@jupyter-widgets/controls",
            "_model_module_version": "1.5.0",
            "value": " 1000000/1000000 [01:01&lt;00:00, 18154.14it/s]",
            "_view_count": null,
            "_view_module_version": "1.5.0",
            "description_tooltip": null,
            "_model_module": "@jupyter-widgets/controls",
            "layout": "IPY_MODEL_f7c91466db484359b9db6027e8515cc7"
          }
        },
        "84ae30fadf3e4e8fbb6203c88919cd94": {
          "model_module": "@jupyter-widgets/controls",
          "model_name": "DescriptionStyleModel",
          "model_module_version": "1.5.0",
          "state": {
            "_view_name": "StyleView",
            "_model_name": "DescriptionStyleModel",
            "description_width": "",
            "_view_module": "@jupyter-widgets/base",
            "_model_module_version": "1.5.0",
            "_view_count": null,
            "_view_module_version": "1.2.0",
            "_model_module": "@jupyter-widgets/controls"
          }
        },
        "a4fb1bd99f1e4bd89444fc8fa6223e06": {
          "model_module": "@jupyter-widgets/base",
          "model_name": "LayoutModel",
          "model_module_version": "1.2.0",
          "state": {
            "_view_name": "LayoutView",
            "grid_template_rows": null,
            "right": null,
            "justify_content": null,
            "_view_module": "@jupyter-widgets/base",
            "overflow": null,
            "_model_module_version": "1.2.0",
            "_view_count": null,
            "flex_flow": null,
            "width": null,
            "min_width": null,
            "border": null,
            "align_items": null,
            "bottom": null,
            "_model_module": "@jupyter-widgets/base",
            "top": null,
            "grid_column": null,
            "overflow_y": null,
            "overflow_x": null,
            "grid_auto_flow": null,
            "grid_area": null,
            "grid_template_columns": null,
            "flex": null,
            "_model_name": "LayoutModel",
            "justify_items": null,
            "grid_row": null,
            "max_height": null,
            "align_content": null,
            "visibility": null,
            "align_self": null,
            "height": null,
            "min_height": null,
            "padding": null,
            "grid_auto_rows": null,
            "grid_gap": null,
            "max_width": null,
            "order": null,
            "_view_module_version": "1.2.0",
            "grid_template_areas": null,
            "object_position": null,
            "object_fit": null,
            "grid_auto_columns": null,
            "margin": null,
            "display": null,
            "left": null
          }
        },
        "1cdfcf9fc5b640dfa6e981bdcca0f08c": {
          "model_module": "@jupyter-widgets/controls",
          "model_name": "ProgressStyleModel",
          "model_module_version": "1.5.0",
          "state": {
            "_view_name": "StyleView",
            "_model_name": "ProgressStyleModel",
            "description_width": "",
            "_view_module": "@jupyter-widgets/base",
            "_model_module_version": "1.5.0",
            "_view_count": null,
            "_view_module_version": "1.2.0",
            "bar_color": null,
            "_model_module": "@jupyter-widgets/controls"
          }
        },
        "5a012c40fd87430d801850a5c59db787": {
          "model_module": "@jupyter-widgets/base",
          "model_name": "LayoutModel",
          "model_module_version": "1.2.0",
          "state": {
            "_view_name": "LayoutView",
            "grid_template_rows": null,
            "right": null,
            "justify_content": null,
            "_view_module": "@jupyter-widgets/base",
            "overflow": null,
            "_model_module_version": "1.2.0",
            "_view_count": null,
            "flex_flow": null,
            "width": null,
            "min_width": null,
            "border": null,
            "align_items": null,
            "bottom": null,
            "_model_module": "@jupyter-widgets/base",
            "top": null,
            "grid_column": null,
            "overflow_y": null,
            "overflow_x": null,
            "grid_auto_flow": null,
            "grid_area": null,
            "grid_template_columns": null,
            "flex": null,
            "_model_name": "LayoutModel",
            "justify_items": null,
            "grid_row": null,
            "max_height": null,
            "align_content": null,
            "visibility": null,
            "align_self": null,
            "height": null,
            "min_height": null,
            "padding": null,
            "grid_auto_rows": null,
            "grid_gap": null,
            "max_width": null,
            "order": null,
            "_view_module_version": "1.2.0",
            "grid_template_areas": null,
            "object_position": null,
            "object_fit": null,
            "grid_auto_columns": null,
            "margin": null,
            "display": null,
            "left": null
          }
        },
        "0de00fe5732b408aaea23c43f6bbcc13": {
          "model_module": "@jupyter-widgets/controls",
          "model_name": "DescriptionStyleModel",
          "model_module_version": "1.5.0",
          "state": {
            "_view_name": "StyleView",
            "_model_name": "DescriptionStyleModel",
            "description_width": "",
            "_view_module": "@jupyter-widgets/base",
            "_model_module_version": "1.5.0",
            "_view_count": null,
            "_view_module_version": "1.2.0",
            "_model_module": "@jupyter-widgets/controls"
          }
        },
        "f7c91466db484359b9db6027e8515cc7": {
          "model_module": "@jupyter-widgets/base",
          "model_name": "LayoutModel",
          "model_module_version": "1.2.0",
          "state": {
            "_view_name": "LayoutView",
            "grid_template_rows": null,
            "right": null,
            "justify_content": null,
            "_view_module": "@jupyter-widgets/base",
            "overflow": null,
            "_model_module_version": "1.2.0",
            "_view_count": null,
            "flex_flow": null,
            "width": null,
            "min_width": null,
            "border": null,
            "align_items": null,
            "bottom": null,
            "_model_module": "@jupyter-widgets/base",
            "top": null,
            "grid_column": null,
            "overflow_y": null,
            "overflow_x": null,
            "grid_auto_flow": null,
            "grid_area": null,
            "grid_template_columns": null,
            "flex": null,
            "_model_name": "LayoutModel",
            "justify_items": null,
            "grid_row": null,
            "max_height": null,
            "align_content": null,
            "visibility": null,
            "align_self": null,
            "height": null,
            "min_height": null,
            "padding": null,
            "grid_auto_rows": null,
            "grid_gap": null,
            "max_width": null,
            "order": null,
            "_view_module_version": "1.2.0",
            "grid_template_areas": null,
            "object_position": null,
            "object_fit": null,
            "grid_auto_columns": null,
            "margin": null,
            "display": null,
            "left": null
          }
        },
        "ffd0775e8d01488f90e66939f548f77e": {
          "model_module": "@jupyter-widgets/controls",
          "model_name": "HBoxModel",
          "model_module_version": "1.5.0",
          "state": {
            "_view_name": "HBoxView",
            "_dom_classes": [],
            "_model_name": "HBoxModel",
            "_view_module": "@jupyter-widgets/controls",
            "_model_module_version": "1.5.0",
            "_view_count": null,
            "_view_module_version": "1.5.0",
            "box_style": "",
            "layout": "IPY_MODEL_ab66b5bd96ba40f095410001363f9c07",
            "_model_module": "@jupyter-widgets/controls",
            "children": [
              "IPY_MODEL_efb566f22a254cba8c24368f4a71ac7a",
              "IPY_MODEL_afa75192388f40928778d189e98cac3f",
              "IPY_MODEL_4694ded2e8504aa1b041c85e7dd4996f"
            ]
          }
        },
        "ab66b5bd96ba40f095410001363f9c07": {
          "model_module": "@jupyter-widgets/base",
          "model_name": "LayoutModel",
          "model_module_version": "1.2.0",
          "state": {
            "_view_name": "LayoutView",
            "grid_template_rows": null,
            "right": null,
            "justify_content": null,
            "_view_module": "@jupyter-widgets/base",
            "overflow": null,
            "_model_module_version": "1.2.0",
            "_view_count": null,
            "flex_flow": null,
            "width": null,
            "min_width": null,
            "border": null,
            "align_items": null,
            "bottom": null,
            "_model_module": "@jupyter-widgets/base",
            "top": null,
            "grid_column": null,
            "overflow_y": null,
            "overflow_x": null,
            "grid_auto_flow": null,
            "grid_area": null,
            "grid_template_columns": null,
            "flex": null,
            "_model_name": "LayoutModel",
            "justify_items": null,
            "grid_row": null,
            "max_height": null,
            "align_content": null,
            "visibility": null,
            "align_self": null,
            "height": null,
            "min_height": null,
            "padding": null,
            "grid_auto_rows": null,
            "grid_gap": null,
            "max_width": null,
            "order": null,
            "_view_module_version": "1.2.0",
            "grid_template_areas": null,
            "object_position": null,
            "object_fit": null,
            "grid_auto_columns": null,
            "margin": null,
            "display": null,
            "left": null
          }
        },
        "efb566f22a254cba8c24368f4a71ac7a": {
          "model_module": "@jupyter-widgets/controls",
          "model_name": "HTMLModel",
          "model_module_version": "1.5.0",
          "state": {
            "_view_name": "HTMLView",
            "style": "IPY_MODEL_bff5955967e54268ba98ddf118684dd8",
            "_dom_classes": [],
            "description": "",
            "_model_name": "HTMLModel",
            "placeholder": "​",
            "_view_module": "@jupyter-widgets/controls",
            "_model_module_version": "1.5.0",
            "value": "100%",
            "_view_count": null,
            "_view_module_version": "1.5.0",
            "description_tooltip": null,
            "_model_module": "@jupyter-widgets/controls",
            "layout": "IPY_MODEL_04fbe4ddb5d247c699c99366d3b611bf"
          }
        },
        "afa75192388f40928778d189e98cac3f": {
          "model_module": "@jupyter-widgets/controls",
          "model_name": "FloatProgressModel",
          "model_module_version": "1.5.0",
          "state": {
            "_view_name": "ProgressView",
            "style": "IPY_MODEL_05f1b6d1daeb4cf48c11120f2c283d85",
            "_dom_classes": [],
            "description": "",
            "_model_name": "FloatProgressModel",
            "bar_style": "success",
            "max": 1000000,
            "_view_module": "@jupyter-widgets/controls",
            "_model_module_version": "1.5.0",
            "value": 1000000,
            "_view_count": null,
            "_view_module_version": "1.5.0",
            "orientation": "horizontal",
            "min": 0,
            "description_tooltip": null,
            "_model_module": "@jupyter-widgets/controls",
            "layout": "IPY_MODEL_fe05904abdbe48acbae2672f973e84ec"
          }
        },
        "4694ded2e8504aa1b041c85e7dd4996f": {
          "model_module": "@jupyter-widgets/controls",
          "model_name": "HTMLModel",
          "model_module_version": "1.5.0",
          "state": {
            "_view_name": "HTMLView",
            "style": "IPY_MODEL_deda4f088fed4a72aa7b9cb9ef492fd3",
            "_dom_classes": [],
            "description": "",
            "_model_name": "HTMLModel",
            "placeholder": "​",
            "_view_module": "@jupyter-widgets/controls",
            "_model_module_version": "1.5.0",
            "value": " 1000000/1000000 [01:18&lt;00:00, 14572.96it/s]",
            "_view_count": null,
            "_view_module_version": "1.5.0",
            "description_tooltip": null,
            "_model_module": "@jupyter-widgets/controls",
            "layout": "IPY_MODEL_7618b65d0ca54347b293310e1876d8dc"
          }
        },
        "bff5955967e54268ba98ddf118684dd8": {
          "model_module": "@jupyter-widgets/controls",
          "model_name": "DescriptionStyleModel",
          "model_module_version": "1.5.0",
          "state": {
            "_view_name": "StyleView",
            "_model_name": "DescriptionStyleModel",
            "description_width": "",
            "_view_module": "@jupyter-widgets/base",
            "_model_module_version": "1.5.0",
            "_view_count": null,
            "_view_module_version": "1.2.0",
            "_model_module": "@jupyter-widgets/controls"
          }
        },
        "04fbe4ddb5d247c699c99366d3b611bf": {
          "model_module": "@jupyter-widgets/base",
          "model_name": "LayoutModel",
          "model_module_version": "1.2.0",
          "state": {
            "_view_name": "LayoutView",
            "grid_template_rows": null,
            "right": null,
            "justify_content": null,
            "_view_module": "@jupyter-widgets/base",
            "overflow": null,
            "_model_module_version": "1.2.0",
            "_view_count": null,
            "flex_flow": null,
            "width": null,
            "min_width": null,
            "border": null,
            "align_items": null,
            "bottom": null,
            "_model_module": "@jupyter-widgets/base",
            "top": null,
            "grid_column": null,
            "overflow_y": null,
            "overflow_x": null,
            "grid_auto_flow": null,
            "grid_area": null,
            "grid_template_columns": null,
            "flex": null,
            "_model_name": "LayoutModel",
            "justify_items": null,
            "grid_row": null,
            "max_height": null,
            "align_content": null,
            "visibility": null,
            "align_self": null,
            "height": null,
            "min_height": null,
            "padding": null,
            "grid_auto_rows": null,
            "grid_gap": null,
            "max_width": null,
            "order": null,
            "_view_module_version": "1.2.0",
            "grid_template_areas": null,
            "object_position": null,
            "object_fit": null,
            "grid_auto_columns": null,
            "margin": null,
            "display": null,
            "left": null
          }
        },
        "05f1b6d1daeb4cf48c11120f2c283d85": {
          "model_module": "@jupyter-widgets/controls",
          "model_name": "ProgressStyleModel",
          "model_module_version": "1.5.0",
          "state": {
            "_view_name": "StyleView",
            "_model_name": "ProgressStyleModel",
            "description_width": "",
            "_view_module": "@jupyter-widgets/base",
            "_model_module_version": "1.5.0",
            "_view_count": null,
            "_view_module_version": "1.2.0",
            "bar_color": null,
            "_model_module": "@jupyter-widgets/controls"
          }
        },
        "fe05904abdbe48acbae2672f973e84ec": {
          "model_module": "@jupyter-widgets/base",
          "model_name": "LayoutModel",
          "model_module_version": "1.2.0",
          "state": {
            "_view_name": "LayoutView",
            "grid_template_rows": null,
            "right": null,
            "justify_content": null,
            "_view_module": "@jupyter-widgets/base",
            "overflow": null,
            "_model_module_version": "1.2.0",
            "_view_count": null,
            "flex_flow": null,
            "width": null,
            "min_width": null,
            "border": null,
            "align_items": null,
            "bottom": null,
            "_model_module": "@jupyter-widgets/base",
            "top": null,
            "grid_column": null,
            "overflow_y": null,
            "overflow_x": null,
            "grid_auto_flow": null,
            "grid_area": null,
            "grid_template_columns": null,
            "flex": null,
            "_model_name": "LayoutModel",
            "justify_items": null,
            "grid_row": null,
            "max_height": null,
            "align_content": null,
            "visibility": null,
            "align_self": null,
            "height": null,
            "min_height": null,
            "padding": null,
            "grid_auto_rows": null,
            "grid_gap": null,
            "max_width": null,
            "order": null,
            "_view_module_version": "1.2.0",
            "grid_template_areas": null,
            "object_position": null,
            "object_fit": null,
            "grid_auto_columns": null,
            "margin": null,
            "display": null,
            "left": null
          }
        },
        "deda4f088fed4a72aa7b9cb9ef492fd3": {
          "model_module": "@jupyter-widgets/controls",
          "model_name": "DescriptionStyleModel",
          "model_module_version": "1.5.0",
          "state": {
            "_view_name": "StyleView",
            "_model_name": "DescriptionStyleModel",
            "description_width": "",
            "_view_module": "@jupyter-widgets/base",
            "_model_module_version": "1.5.0",
            "_view_count": null,
            "_view_module_version": "1.2.0",
            "_model_module": "@jupyter-widgets/controls"
          }
        },
        "7618b65d0ca54347b293310e1876d8dc": {
          "model_module": "@jupyter-widgets/base",
          "model_name": "LayoutModel",
          "model_module_version": "1.2.0",
          "state": {
            "_view_name": "LayoutView",
            "grid_template_rows": null,
            "right": null,
            "justify_content": null,
            "_view_module": "@jupyter-widgets/base",
            "overflow": null,
            "_model_module_version": "1.2.0",
            "_view_count": null,
            "flex_flow": null,
            "width": null,
            "min_width": null,
            "border": null,
            "align_items": null,
            "bottom": null,
            "_model_module": "@jupyter-widgets/base",
            "top": null,
            "grid_column": null,
            "overflow_y": null,
            "overflow_x": null,
            "grid_auto_flow": null,
            "grid_area": null,
            "grid_template_columns": null,
            "flex": null,
            "_model_name": "LayoutModel",
            "justify_items": null,
            "grid_row": null,
            "max_height": null,
            "align_content": null,
            "visibility": null,
            "align_self": null,
            "height": null,
            "min_height": null,
            "padding": null,
            "grid_auto_rows": null,
            "grid_gap": null,
            "max_width": null,
            "order": null,
            "_view_module_version": "1.2.0",
            "grid_template_areas": null,
            "object_position": null,
            "object_fit": null,
            "grid_auto_columns": null,
            "margin": null,
            "display": null,
            "left": null
          }
        }
      }
    }
  },
  "cells": [
    {
      "cell_type": "markdown",
      "metadata": {
        "id": "0RzU7KPU-0CL"
      },
      "source": [
        "1. 利用二次规划函数，分别编程实现原问题求解的支撑向量机算法（Primal-SVM）、对偶的支撑向量机算法（Dual-SVM）、和核函数的支撑向量机算法（Kernel-SVM）。"
      ]
    },
    {
      "cell_type": "code",
      "metadata": {
        "colab": {
          "background_save": true,
          "base_uri": "https://localhost:8080/",
          "height": 1000
        },
        "id": "N19N5m5g-sJx",
        "outputId": "1d2b7b70-c3ee-4e2e-81fe-3b38920876c2"
      },
      "source": [
        "import numpy as np\n",
        "import matplotlib.pyplot as plt\n",
        "import random\n",
        "import time\n",
        "import math\n",
        "\n",
        "X1 = np.random.multivariate_normal((-5,0), [[1,0],[0,1]], (200,), 'ignore') #二维正态分布\n",
        "\n",
        "X2 = np.random.multivariate_normal((0,5), [[1,0],[0,1]], (200,), 'ignore')\n",
        "\n",
        "\n",
        "X1_train = X1[:-40]\n",
        "X1_test = X1[-40:]\n",
        "X2_train = X2[:-40]\n",
        "X2_test = X2[-40:]\n",
        "\n",
        "X1_train = np.array(X1_train)\n",
        "X1_test = np.array(X1_test)\n",
        "X2_train = np.array(X2_train)\n",
        "X2_test = np.array(X2_test)\n",
        "\n",
        "\n",
        "data_SVM_train = np.vstack((np.c_[np.ones(len(X1_train)),X1_train,np.ones(len(X1_train))],\\\n",
        "            np.c_[np.ones(len(X2_train)),X2_train,[-1] * len(X2_train)]))   #合并数据\n",
        "\n",
        "data_SVM_test = np.vstack((np.c_[np.ones(len(X1_test)),X1_test,np.ones(len(X1_test))],\\\n",
        "            np.c_[np.ones(len(X2_test)),X2_test,[-1] * len(X2_test)]))\n",
        "\n",
        "def list_split(items, n):\n",
        "  return [items[i:i+n] for i in range(0, len(items), n)]\n",
        "\n",
        "def SVM(batch_size = len(data_SVM_train), max_count = 100, rate = 0.0001):\n",
        "  start = time.time()\n",
        "\n",
        "  data = np.array(data_SVM_train)\n",
        "  X = np.mat(data[:,:-1])\n",
        "  Y = np.transpose(np.mat(data[:,-1]))\n",
        "  count = 0\n",
        "  w = np.transpose(np.mat([.0,.0,.0]))\n",
        "  list_loss = []\n",
        "  while count < max_count:\n",
        "    data = np.array(data_SVM_train)\n",
        "    np.random.shuffle(data)     #随机数据\n",
        "    batch_data = np.array(list_split(data, batch_size))   #根据batch_size分批\n",
        "    flag = 0\n",
        "    for i in range(0, len(batch_data)):\n",
        "      X = np.mat(batch_data[i][:,:-1])\n",
        "      Y = np.transpose(np.mat(batch_data[i][:,-1]))\n",
        "      grad = 0\n",
        "      loss = 0\n",
        "      loss_sum = 0\n",
        "      for i in range(0,len(X)):\n",
        "        loss += max(0, 1 - (Y[i][0,0] * np.transpose(w) * np.transpose(X[i]))[0,0])\n",
        "        grad += max(0, 1 - (Y[i][0,0] * np.transpose(w) * np.transpose(X[i]))[0,0]) * (-Y[i][0,0] * np.transpose(X[i]))\n",
        "      loss_sum += loss\n",
        "      loss /= len(X)\n",
        "      grad /= len(X)\n",
        "      w -= rate * grad\n",
        "    loss_sum /= len(data)\n",
        "    list_loss.append([count, loss_sum])\n",
        "    count += 1\n",
        "\n",
        "\n",
        "  end = time.time()\n",
        "\n",
        "  data = np.array(data_SVM_train)\n",
        "  X = np.mat(data[:,:-1])\n",
        "  Y = np.transpose(np.mat(data[:,-1]))\n",
        "\n",
        "  w = np.array(np.transpose(w)).reshape(3)  #变更格式\n",
        "\n",
        "  print(\"\\nSVM w:\\n\",w)\n",
        "  print(\"SVM iteration:\",count)\n",
        "  print(\"SVM time:\",end - start)\n",
        "\n",
        "  X = data[:,:-1]\n",
        "  plot_x = np.linspace(-5,5,1000)\n",
        "  plot_y = -(w[1]/w[2])*plot_x - w[0]/w[2]\n",
        "  plt.plot(plot_x, plot_y, 'r')\n",
        "  plt.scatter(X1_train[:,0], X1_train[:,1])\n",
        "  plt.scatter(X2_train[:,0], X2_train[:,1])\n",
        "  plt.show()\n",
        "\n",
        "  list_loss = np.array(list_loss)\n",
        "  print(\"epoch-loss\")\n",
        "  plt.plot(list_loss[:,0],list_loss[:,1])\n",
        "  plt.show()\n",
        "\n",
        "\n",
        "  return w\n",
        "\n",
        "\n",
        "\n",
        "print(\"\\n随机数据不分批次\")\n",
        "w = SVM()\n",
        "print(\"\\n随机数据分1次一批\")\n",
        "w = SVM(1)\n",
        "print(\"\\n随机数据分1次一批，1000次迭代\")\n",
        "w = SVM(1, 1000)"
      ],
      "execution_count": null,
      "outputs": [
        {
          "name": "stdout",
          "output_type": "stream",
          "text": [
            "\n",
            "随机数据不分批次\n",
            "\n",
            "SVM w:\n",
            " [-1.36953049e-06 -2.33183404e-02 -2.39127226e-02]\n",
            "SVM iteration: 100\n",
            "SVM time: 3.1466667652130127\n"
          ]
        },
        {
          "data": {
            "image/png": "[encoded data removed]",
            "text/plain": [
              "<Figure size 432x288 with 1 Axes>"
            ]
          },
          "metadata": {},
          "output_type": "display_data"
        },
        {
          "name": "stdout",
          "output_type": "stream",
          "text": [
            "epoch-loss\n"
          ]
        },
        {
          "data": {
            "image/png": "[encoded data removed]",
            "text/plain": [
              "<Figure size 432x288 with 1 Axes>"
            ]
          },
          "metadata": {},
          "output_type": "display_data"
        },
        {
          "name": "stdout",
          "output_type": "stream",
          "text": [
            "\n",
            "随机数据分1次一批\n",
            "\n",
            "SVM w:\n",
            " [-0.00252179 -0.32319754 -0.32256753]\n",
            "SVM iteration: 100\n",
            "SVM time: 4.795658111572266\n"
          ]
        },
        {
          "data": {
            "image/png": "[encoded data removed]",
            "text/plain": [
              "<Figure size 432x288 with 1 Axes>"
            ]
          },
          "metadata": {},
          "output_type": "display_data"
        },
        {
          "name": "stdout",
          "output_type": "stream",
          "text": [
            "epoch-loss\n"
          ]
        },
        {
          "data": {
            "image/png": "[encoded data removed]",
            "text/plain": [
              "<Figure size 432x288 with 1 Axes>"
            ]
          },
          "metadata": {},
          "output_type": "display_data"
        },
        {
          "name": "stdout",
          "output_type": "stream",
          "text": [
            "\n",
            "随机数据分1次一批，1000次迭代\n",
            "\n",
            "SVM w:\n",
            " [-0.03677792 -0.47348099 -0.4740027 ]\n",
            "SVM iteration: 1000\n",
            "SVM time: 45.58376145362854\n"
          ]
        },
        {
          "data": {
            "image/png": "[encoded data removed]",
            "text/plain": [
              "<Figure size 432x288 with 1 Axes>"
            ]
          },
          "metadata": {},
          "output_type": "display_data"
        },
        {
          "name": "stdout",
          "output_type": "stream",
          "text": [
            "epoch-loss\n"
          ]
        },
        {
          "data": {
            "image/png": "[encoded data removed]",
            "text/plain": [
              "<Figure size 432x288 with 1 Axes>"
            ]
          },
          "metadata": {},
          "output_type": "display_data"
        }
      ]
    },
    {
      "cell_type": "markdown",
      "metadata": {
        "id": "zdRPHZunjA68"
      },
      "source": [
        "训练集: 中国与日本的沿海城市的经纬度坐标向量，中国标签为+1, 日本为标签为-1."
      ]
    },
    {
      "cell_type": "code",
      "metadata": {
        "colab": {
          "base_uri": "https://localhost:8080/",
          "height": 1000,
          "referenced_widgets": [
            "2b3cd6f3156b45e9915375950444172d",
            "e16bb3553a8044fe982030f738b90c3f",
            "14d89f1057844f4485f4f3348b674067",
            "10bacd1bb30e4e168df560c37e75b7d4",
            "c7ba2ac0677f47ffb124ad2d135de381",
            "84ae30fadf3e4e8fbb6203c88919cd94",
            "a4fb1bd99f1e4bd89444fc8fa6223e06",
            "1cdfcf9fc5b640dfa6e981bdcca0f08c",
            "5a012c40fd87430d801850a5c59db787",
            "0de00fe5732b408aaea23c43f6bbcc13",
            "f7c91466db484359b9db6027e8515cc7",
            "ffd0775e8d01488f90e66939f548f77e",
            "ab66b5bd96ba40f095410001363f9c07",
            "efb566f22a254cba8c24368f4a71ac7a",
            "afa75192388f40928778d189e98cac3f",
            "4694ded2e8504aa1b041c85e7dd4996f",
            "bff5955967e54268ba98ddf118684dd8",
            "04fbe4ddb5d247c699c99366d3b611bf",
            "05f1b6d1daeb4cf48c11120f2c283d85",
            "fe05904abdbe48acbae2672f973e84ec",
            "deda4f088fed4a72aa7b9cb9ef492fd3",
            "7618b65d0ca54347b293310e1876d8dc"
          ]
        },
        "id": "w_tfUjJ3h-s3",
        "outputId": "01e29996-6e4a-42c6-9512-22013a15907e"
      },
      "source": [
        "from sklearn.utils import shuffle\n",
        "from sklearn.model_selection import train_test_split\n",
        "import numpy as np\n",
        "import pandas as pd\n",
        "import matplotlib.pyplot as plt\n",
        "from cvxopt import matrix, solvers\n",
        "from tqdm import tqdm_notebook\n",
        "%matplotlib inline\n",
        "\n",
        "MAX_ITERATION = 10000\n",
        "\n",
        "def data_generator(inland):\n",
        "    if inland == False:\n",
        "        X1 = np.array([[119.28, 26.08],    # 福州\n",
        "                       [121.31, 25.03],    # 台北\n",
        "                       [121.47, 31.23],    # 上海\n",
        "                       [118.06, 24.27],    # 厦门\n",
        "                       [121.46, 39.04],    # 大连\n",
        "                       [122.10, 37.50],    # 威海\n",
        "                       [124.23, 40.07]])   # 丹东\n",
        "\n",
        "        X2 = np.array([[129.87, 32.75],    # 长崎\n",
        "                       [130.33, 31.36],    # 鹿儿岛\n",
        "                       [131.42, 31.91],    # 宫崎\n",
        "                       [130.24, 33.35],    # 福冈\n",
        "                       [133.33, 15.43],    # 鸟取\n",
        "                       [138.38, 34.98],    # 静冈\n",
        "                       [140.47, 36.37]])   # 水户\n",
        "        y1 = np.full(X1.shape[0], -1)\n",
        "        y2 = np.ones(X2.shape[0])\n",
        "\n",
        "        X_train = np.concatenate((X1, X2), axis=0)\n",
        "        y_train = np.concatenate((y1, y2))\n",
        "        X_train, y_train = shuffle(X_train, y_train)\n",
        "        X_test = np.array([[123.28, 25.45]])\n",
        "        y_test = np.array([-1])\n",
        "\n",
        "        return X_train, y_train, X_test, y_test\n",
        "\n",
        "    else:\n",
        "        X1 = np.array([[119.28, 26.08],    # 福州\n",
        "                       [121.31, 25.03],    # 台北\n",
        "                       [121.47, 31.23],    # 上海\n",
        "                       [118.06, 24.27],    # 厦门\n",
        "                       [113.53, 29.58],    # 武汉\n",
        "                       [104.06, 30.67],    # 成都\n",
        "                       [116.25, 39.54],    # 北京\n",
        "                       [121.46, 39.04],    # 大连\n",
        "                       [122.10, 37.50],    # 威海\n",
        "                       [124.23, 40.07]])   # 丹东\n",
        "\n",
        "        X2 = np.array([[129.87, 32.75],    # 长崎\n",
        "                       [130.33, 31.36],    # 鹿儿岛\n",
        "                       [131.42, 31.91],    # 宫崎\n",
        "                       [130.24, 33.35],    # 福冈\n",
        "                       [136.54, 35.10],    # 名古屋\n",
        "                       [132.27, 34.24],    # 广岛\n",
        "                       [139.46, 35.42],    # 东京\n",
        "                       [133.33, 15.43],    # 鸟取\n",
        "                       [138.38, 34.98],    # 静冈\n",
        "                       [140.47, 36.37]])   # 水户\n",
        "        y1 = np.full(X1.shape[0], -1)\n",
        "        y2 = np.ones(X2.shape[0])\n",
        "\n",
        "        X_train = np.concatenate((X1, X2), axis=0)\n",
        "        y_train = np.concatenate((y1, y2))\n",
        "        X_train, y_train = shuffle(X_train, y_train)\n",
        "        X_test = np.array([[123.28, 25.45]])\n",
        "        y_test = np.array([-1])\n",
        "\n",
        "        return X_train, y_train, X_test, y_test\n",
        "\n",
        "\n",
        "def primal_SVM(X, y):\n",
        "    X = np.concatenate((np.ones((X.shape[0], 1)), X), axis=1)\n",
        "    N, d = X.shape\n",
        "    temp = np.eye(d)\n",
        "    temp[0, 0] = 0.0\n",
        "    Q = matrix(temp)\n",
        "    p = matrix(-np.zeros(d))\n",
        "    G = matrix(-y.reshape(-1, 1) * X)\n",
        "    h = matrix(-np.ones(N))\n",
        "\n",
        "    sol = solvers.qp(Q, p, G, h)\n",
        "    w = np.array(sol['x']).reshape(-1)\n",
        "    print('Final weight vector is:', w)\n",
        "\n",
        "    return w\n",
        "\n",
        "\n",
        "def dual_SVM(X, y):\n",
        "    N = X.shape[0]\n",
        "    temp = y.reshape(-1, 1) * X\n",
        "    Q = matrix(np.dot(temp, temp.T).astype(np.double))\n",
        "    p = matrix(-np.ones(N))\n",
        "    G = matrix(-np.eye(N)[range(0, N)])\n",
        "    h = matrix(np.zeros(N))\n",
        "    A = matrix(y.astype(np.double), (1, N))\n",
        "    b = matrix(0.0)\n",
        "\n",
        "    sol = solvers.qp(Q, p, G, h, A, b)\n",
        "    alpha = np.array(sol['x']).reshape(-1)\n",
        "    w = np.dot(alpha * y, X)\n",
        "    non_zero_index = np.where(np.abs(alpha) > 1e-6)[0][0]\n",
        "    b = y[non_zero_index] - np.dot(w, X[non_zero_index])\n",
        "    w = np.append(b, w)\n",
        "    print('Final weight vector is:', w)\n",
        "    \n",
        "    return w\n",
        "\n",
        "\n",
        "def SVM_pegasos(X, y, w_init, max_iter, weight_decay, lr, eps=1e-6):\n",
        "    w = w_init\n",
        "    X = np.concatenate((np.ones((X.shape[0], 1)), X), axis=1)\n",
        "    diff = np.zeros(3)\n",
        "\n",
        "    for t in tqdm_notebook(range(max_iter)):\n",
        "        diff = weight_decay * w\n",
        "        for n in range(len(X)):\n",
        "            if y[n]*np.dot(w, X[n]) < 1:\n",
        "                diff += -y[n]*X[n]\n",
        "        w_ = w - lr/(t+1) * diff\n",
        "        delta = np.linalg.norm(w - w_)\n",
        "        if delta < eps:\n",
        "            break\n",
        "        else:\n",
        "            w = w_\n",
        "    print('Final weight vector is:', w)\n",
        "    \n",
        "    return w\n",
        "\n",
        "\n",
        "def SVM_drawer(X_train, y_train, X_test, y_test, w):\n",
        "    fig, ax = plt.subplots(1, 1, figsize=(10, 10))\n",
        "\n",
        "    for i in range(len(y_train)):\n",
        "        if y_train[i] == 1:\n",
        "            ax.scatter(X_train[i, 0], X_train[i, 1], c='r', marker='o')\n",
        "        else:\n",
        "            ax.scatter(X_train[i, 0], X_train[i, 1], c='b', marker='x')\n",
        "\n",
        "    for i in range(len(y_test)):\n",
        "        if y_test[i] == 1:\n",
        "            ax.scatter(X_test[i, 0], X_test[i, 1], c='r', s=200, marker='*')\n",
        "        else:\n",
        "            ax.scatter(X_test[i, 0], X_test[i, 1], c='b', s=200, marker='*')\n",
        "\n",
        "    l_x = np.linspace(100, 150, X_train.shape[0])\n",
        "    l_y = -(w[0]/w[2]+w[1]/w[2]*l_x)\n",
        "    ax.plot(l_x, l_y)\n",
        "    xy_max = np.max(X_train, axis=0)\n",
        "    xy_min = np.min(X_train, axis=0)\n",
        "    ax.set(xlim=(100, 150), ylim=(15, 45),\n",
        "           xlabel=\"x\",\n",
        "           ylabel=\"y\",\n",
        "           title=\"SVM\")\n",
        "    plt.show()\n",
        "\n",
        "print(\"primal_SVM------------------------------------------\\n\")\n",
        "X_train, y_train, X_test, y_test = data_generator(inland=False)\n",
        "w = primal_SVM(X_train, y_train)\n",
        "SVM_drawer(X_train, y_train, X_test, y_test, w)\n",
        "\n",
        "X_train, y_train, X_test, y_test = data_generator(inland=True)\n",
        "w = primal_SVM(X_train, y_train)\n",
        "SVM_drawer(X_train, y_train, X_test, y_test, w)\n",
        "\n",
        "print(\"dual_SVM------------------------------------------\\n\")\n",
        "X_train, y_train, X_test, y_test = data_generator(inland=False)\n",
        "w = dual_SVM(X_train, y_train)\n",
        "SVM_drawer(X_train, y_train, X_test, y_test, w)\n",
        "\n",
        "X_train, y_train, X_test, y_test = data_generator(inland=True)\n",
        "w = dual_SVM(X_train, y_train)\n",
        "SVM_drawer(X_train, y_train, X_test, y_test, w)\n",
        "\n",
        "\n",
        "print(\"dual_SVM------------------------------------------\\n\")\n",
        "X_train, y_train, X_test, y_test = data_generator(inland=False)\n",
        "np.random.seed()\n",
        "w_init = np.random.randn(3)\n",
        "w = SVM_pegasos(X_train, y_train, w_init, 1000000, weight_decay=0.001, lr=8)\n",
        "SVM_drawer(X_train, y_train, X_test, y_test, w)\n",
        "\n",
        "X_train, y_train, X_test, y_test = data_generator(inland=True)\n",
        "np.random.seed()\n",
        "w_init = np.random.randn(3)\n",
        "w = SVM_pegasos(X_train, y_train, w_init, 1000000, weight_decay=0.01, lr=8)\n",
        "SVM_drawer(X_train, y_train, X_test, y_test, w)"
      ],
      "execution_count": 10,
      "outputs": [
        {
          "output_type": "stream",
          "name": "stdout",
          "text": [
            "primal_SVM------------------------------------------\n",
            "\n",
            "     pcost       dcost       gap    pres   dres\n",
            " 0:  9.0724e-03  6.3515e+00  4e+01  2e+00  1e+02\n",
            " 1:  8.1712e-02 -7.4726e+00  1e+01  4e-01  3e+01\n",
            " 2:  1.1719e-01 -1.2084e-01  2e-01  4e-03  4e-01\n",
            " 3:  5.4376e-02  2.4933e-02  3e-02  2e-15  9e-14\n",
            " 4:  4.2043e-02  3.8454e-02  4e-03  4e-15  5e-14\n",
            " 5:  4.1638e-02  4.1578e-02  6e-05  4e-15  2e-13\n",
            " 6:  4.1624e-02  4.1624e-02  6e-07  4e-15  7e-14\n",
            " 7:  4.1624e-02  4.1624e-02  6e-09  3e-15  1e-13\n",
            "Optimal solution found.\n",
            "Final weight vector is: [-33.98333018   0.28323918  -0.05499058]\n"
          ]
        },
        {
          "output_type": "display_data",
          "data": {
            "image/png": "[encoded data removed]",
            "text/plain": [
              "<Figure size 720x720 with 1 Axes>"
            ]
          },
          "metadata": {
            "needs_background": "light"
          }
        },
        {
          "output_type": "stream",
          "name": "stdout",
          "text": [
            "     pcost       dcost       gap    pres   dres\n",
            " 0:  4.5703e-03  1.5099e+01  6e+01  2e+00  3e+02\n",
            " 1:  4.6198e-02 -1.1101e+01  2e+01  5e-01  9e+01\n",
            " 2:  8.0671e-02 -1.1034e+00  1e+00  2e-02  5e+00\n",
            " 3:  7.1962e-02  1.2370e-02  6e-02  7e-15  5e-14\n",
            " 4:  4.2696e-02  3.4933e-02  8e-03  3e-15  4e-14\n",
            " 5:  4.1747e-02  4.1277e-02  5e-04  5e-15  6e-14\n",
            " 6:  4.1625e-02  4.1621e-02  5e-06  3e-15  4e-14\n",
            " 7:  4.1624e-02  4.1624e-02  5e-08  7e-15  2e-13\n",
            "Optimal solution found.\n",
            "Final weight vector is: [-33.98333476   0.28323921  -0.05499059]\n"
          ]
        },
        {
          "output_type": "display_data",
          "data": {
            "image/png": "[encoded data removed]",
            "text/plain": [
              "<Figure size 720x720 with 1 Axes>"
            ]
          },
          "metadata": {
            "needs_background": "light"
          }
        },
        {
          "output_type": "stream",
          "name": "stdout",
          "text": [
            "dual_SVM------------------------------------------\n",
            "\n",
            "     pcost       dcost       gap    pres   dres\n",
            " 0: -2.4282e+00 -4.1387e+00  4e+01  6e+00  2e+00\n",
            " 1: -7.8678e-01 -4.4407e-01  1e+01  1e+00  4e-01\n",
            " 2:  4.9327e-03 -1.1769e-01  2e-01  2e-02  4e-03\n",
            " 3: -2.4933e-02 -5.4376e-02  3e-02  6e-18  8e-14\n",
            " 4: -3.8454e-02 -4.2043e-02  4e-03  9e-18  9e-14\n",
            " 5: -4.1578e-02 -4.1638e-02  6e-05  2e-17  7e-14\n",
            " 6: -4.1624e-02 -4.1624e-02  6e-07  2e-17  9e-14\n",
            " 7: -4.1624e-02 -4.1624e-02  6e-09  8e-18  8e-14\n",
            "Optimal solution found.\n",
            "Final weight vector is: [-33.98333015   0.28323918  -0.05499058]\n"
          ]
        },
        {
          "output_type": "display_data",
          "data": {
            "image/png": "[encoded data removed]",
            "text/plain": [
              "<Figure size 720x720 with 1 Axes>"
            ]
          },
          "metadata": {
            "needs_background": "light"
          }
        },
        {
          "output_type": "stream",
          "name": "stdout",
          "text": [
            "     pcost       dcost       gap    pres   dres\n",
            " 0: -4.9743e+00 -8.4377e+00  6e+01  9e+00  2e+00\n",
            " 1: -4.8968e+00 -2.3887e+00  2e+01  3e+00  5e-01\n",
            " 2: -1.8059e-01 -8.7088e-02  1e+00  1e-01  2e-02\n",
            " 3: -1.2370e-02 -7.1962e-02  6e-02  9e-17  5e-13\n",
            " 4: -3.4933e-02 -4.2696e-02  8e-03  1e-17  9e-14\n",
            " 5: -4.1277e-02 -4.1747e-02  5e-04  8e-18  1e-13\n",
            " 6: -4.1621e-02 -4.1625e-02  5e-06  1e-17  1e-13\n",
            " 7: -4.1624e-02 -4.1624e-02  5e-08  1e-18  1e-13\n",
            "Optimal solution found.\n",
            "Final weight vector is: [-33.98333457   0.28323921  -0.05499059]\n"
          ]
        },
        {
          "output_type": "display_data",
          "data": {
            "image/png": "[encoded data removed]",
            "text/plain": [
              "<Figure size 720x720 with 1 Axes>"
            ]
          },
          "metadata": {
            "needs_background": "light"
          }
        },
        {
          "output_type": "stream",
          "name": "stdout",
          "text": [
            "dual_SVM------------------------------------------\n",
            "\n"
          ]
        },
        {
          "output_type": "stream",
          "name": "stderr",
          "text": [
            "/usr/local/lib/python3.7/dist-packages/ipykernel_launcher.py:117: TqdmDeprecationWarning: This function will be removed in tqdm==5.0.0\n",
            "Please use `tqdm.notebook.tqdm` instead of `tqdm.tqdm_notebook`\n"
          ]
        },
        {
          "output_type": "display_data",
          "data": {
            "application/vnd.jupyter.widget-view+json": {
              "model_id": "2b3cd6f3156b45e9915375950444172d",
              "version_minor": 0,
              "version_major": 2
            },
            "text/plain": [
              "  0%|          | 0/1000000 [00:00<?, ?it/s]"
            ]
          },
          "metadata": {}
        },
        {
          "output_type": "stream",
          "name": "stdout",
          "text": [
            "Final weight vector is: [-32.3263315    0.27251902  -0.06337668]\n"
          ]
        },
        {
          "output_type": "display_data",
          "data": {
            "image/png": "[encoded data removed]",
            "text/plain": [
              "<Figure size 720x720 with 1 Axes>"
            ]
          },
          "metadata": {
            "needs_background": "light"
          }
        },
        {
          "output_type": "stream",
          "name": "stderr",
          "text": [
            "/usr/local/lib/python3.7/dist-packages/ipykernel_launcher.py:117: TqdmDeprecationWarning: This function will be removed in tqdm==5.0.0\n",
            "Please use `tqdm.notebook.tqdm` instead of `tqdm.tqdm_notebook`\n"
          ]
        },
        {
          "output_type": "display_data",
          "data": {
            "application/vnd.jupyter.widget-view+json": {
              "model_id": "ffd0775e8d01488f90e66939f548f77e",
              "version_minor": 0,
              "version_major": 2
            },
            "text/plain": [
              "  0%|          | 0/1000000 [00:00<?, ?it/s]"
            ]
          },
          "metadata": {}
        },
        {
          "output_type": "stream",
          "name": "stdout",
          "text": [
            "Final weight vector is: [-32.33946577   0.27148643  -0.0636186 ]\n"
          ]
        },
        {
          "output_type": "display_data",
          "data": {
            "image/png": "[encoded data removed]",
            "text/plain": [
              "<Figure size 720x720 with 1 Axes>"
            ]
          },
          "metadata": {
            "needs_background": "light"
          }
        }
      ]
    }
  ]
}