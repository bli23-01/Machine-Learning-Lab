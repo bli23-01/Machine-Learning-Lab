{
  "nbformat": 4,
  "nbformat_minor": 0,
  "metadata": {
    "colab": {
      "name": "L2自实1901何金津.ipynb",
      "provenance": [],
      "collapsed_sections": []
    },
    "kernelspec": {
      "name": "python3",
      "display_name": "Python 3"
    },
    "language_info": {
      "name": "python"
    }
  },
  "cells": [
    {
      "cell_type": "markdown",
      "metadata": {
        "id": "kWqawOua_tTS"
      },
      "source": [
        "# L2感知器算法作业"
      ]
    },
    {
      "cell_type": "markdown",
      "metadata": {
        "id": "3MgjrdQ3SpZw"
      },
      "source": [
        "一、分别编写PLA算法和Pocket算法。"
      ]
    },
    {
      "cell_type": "code",
      "metadata": {
        "colab": {
          "base_uri": "https://localhost:8080/"
        },
        "id": "WBG4EPyjNFol",
        "outputId": "c1e61deb-1aea-4b1a-934a-1654f015e7b5"
      },
      "source": [
        "import numpy as np\n",
        "\n",
        "data_PLA = [\n",
        "  [1, 3, 3, 1],\n",
        "  [1, 4, 3, 1],\n",
        "  [1, 1, 1, -1],\n",
        "]\n",
        "\n",
        "data_Pocket = [\n",
        "  [1, 0.2, 0.7, 1],\n",
        "  [1, 0.3, 0.3, 1],\n",
        "  [1, 0.4, 0.5, 1],\n",
        "  [1, 0.6, 0.5, 1],\n",
        "  [1, 0.1, 0.4, 1],\n",
        "  [1, 0.4, 0.6, -1],\n",
        "  [1, 0.6, 0.2, -1],\n",
        "  [1, 0.7, 0.4, -1],\n",
        "  [1, 0.8, 0.6, -1],\n",
        "  [1, 0.7, 0.5, -1],\n",
        "  ]\n",
        "\n",
        "def sign(num):\n",
        "  if num>=0:\n",
        "    return 1\n",
        "  else:\n",
        "    return -1\n",
        "\n",
        "def PLA(max_time=10000):\n",
        "  data = np.array(data_PLA)\n",
        "  X = data[:,:-1]\n",
        "  correct_Y = data[:,-1]\n",
        "\n",
        "  w = np.zeros(3);\n",
        "  count = 0\n",
        "  while count < max_time:\n",
        "    count += 1\n",
        "    error = 0\n",
        "    for i in range(0,len(data)):\n",
        "      now_Y = sign(np.dot(w,X[i]))\n",
        "      if correct_Y[i] == now_Y:\n",
        "        continue\n",
        "      error += 1\n",
        "      w += X[i] * correct_Y[i]\n",
        "    if error == 0:\n",
        "      break\n",
        "      print(\"/nPocket\")\n",
        "  print(\"W equal to:\",w)\n",
        "  print(\"under this w error equal to:\",error)\n",
        "  print(\"iteration:\",count)\n",
        "\n",
        "def Pocket(max_time=10000):\n",
        "  data = np.array(data_Pocket)\n",
        "  X = data[:,:-1]\n",
        "  correct_Y = data[:,-1]\n",
        "\n",
        "  w = np.zeros(3)\n",
        "  count = 0\n",
        "  \n",
        "  min_w = w\n",
        "  min_error = len(X)\n",
        "\n",
        "  while count < max_time:\n",
        "    count += 1\n",
        "    error = 0\n",
        "    while count < max_time:\n",
        "      count += 1\n",
        "      error = 0\n",
        "      flag = 0\n",
        "      error_list = []\n",
        "      for i in range(0,len(data)):\n",
        "        now_Y = sign(np.dot(w,X[i]))\n",
        "        if correct_Y[i] == now_Y:\n",
        "          continue\n",
        "        else:\n",
        "          error_list.append([X[i],correct_Y[i]])\n",
        "        error += 1\n",
        "\n",
        "      if error == 0:\n",
        "        min_error = 0\n",
        "        break\n",
        "      else:\n",
        "        if error < min_error:\n",
        "          min_error = error\n",
        "          min_w = w\n",
        "\n",
        "      error_sample = random.choice(error_list)\n",
        "      w += error_sample[0] * error_sample[1]\n",
        "\n",
        "  print(\"\\nPocket\")\n",
        "  print(\"Min_w equal to:\",min_w)\n",
        "  print(\"under this w error equal to:\",min_error)\n",
        "  print(\"iteration:\",count)\n",
        "\n",
        "PLA()\n",
        "Pocket()"
      ],
      "execution_count": null,
      "outputs": [
        {
          "output_type": "stream",
          "name": "stdout",
          "text": [
            "W equal to: [-3.  1.  1.]\n",
            "under this w error equal to: 0\n",
            "iteration: 6\n",
            "\n",
            "Pocket\n",
            "Min_w equal to: [ 3. -5.  1.]\n",
            "under this w error equal to: 1\n",
            "iteration: 10000\n"
          ]
        }
      ]
    },
    {
      "cell_type": "markdown",
      "metadata": {
        "id": "9bI3tUEoSuAU"
      },
      "source": [
        "二、"
      ]
    },
    {
      "cell_type": "code",
      "metadata": {
        "colab": {
          "base_uri": "https://localhost:8080/",
          "height": 780
        },
        "id": "FB3-QEsCbMIz",
        "outputId": "dbc3047c-ef3e-46e2-9b6f-54faf68c5dad"
      },
      "source": [
        "import numpy as np\n",
        "import matplotlib.pyplot as plt\n",
        "import random\n",
        "import time\n",
        "\n",
        "X1 = np.random.multivariate_normal((-5,0), [[1,0],[0,1]], (200,), 'ignore') #二维正态分布\n",
        "\n",
        "X2 = np.random.multivariate_normal((0,5), [[1,0],[0,1]], (200,), 'ignore')\n",
        "\n",
        "X1_train = X1[:-40]\n",
        "X1_test = X1[-40:]\n",
        "X2_train = X2[:-40]\n",
        "X2_test = X2[-40:]\n",
        "\n",
        "data_PLA_train = np.vstack((np.c_[np.ones(len(X1_train)),X1_train,np.ones(len(X1_train))],\\ \n",
        "            np.c_[np.ones(len(X2_train)),X2_train,[-1] * len(X2_train)])) #合并数据\n",
        "\n",
        "data_Pocket_train = data_PLA_train\n",
        "\n",
        "data_PLA_test = np.vstack((np.c_[np.ones(len(X1_test)),X1_test,np.ones(len(X1_test))],\\\n",
        "            np.c_[np.ones(len(X2_test)),X2_test,[-1] * len(X2_test)]))\n",
        "\n",
        "data_Pocket_test = data_PLA_test\n",
        "\n",
        "def sign(num):\n",
        "  if num>=0:\n",
        "    return 1\n",
        "  else:\n",
        "    return -1\n",
        "\n",
        "def PLA(max_time=10000):\n",
        "  start = time.time()\n",
        "  data = np.array(data_PLA_train)\n",
        "  X = data[:,:-1]\n",
        "  correct_Y = data[:,-1]\n",
        "\n",
        "  w = np.zeros(3);\n",
        "  count = 0\n",
        "  while count < max_time:     ##算法循环开始\n",
        "    count += 1\n",
        "    error = 0\n",
        "    for i in range(0,len(data)):\n",
        "      now_Y = sign(np.dot(w,X[i]))\n",
        "      if correct_Y[i] == now_Y:\n",
        "        continue\n",
        "      error += 1\n",
        "      w += X[i] * correct_Y[i]\n",
        "    if error == 0:\n",
        "      min_error = 0\n",
        "      break\n",
        "  print(\"\\nPLA\")\n",
        "  print(\"W equal to:\",w)\n",
        "  end = time.time()\n",
        "  \n",
        "  plot_x = np.linspace(-10,10,1000)\n",
        "  plot_y = -(w[1]/w[2])*plot_x - w[0]/w[2]\n",
        "  plt.plot(plot_x, plot_y)\n",
        "  plt.scatter(X[:, 1], X[:, 2])\n",
        "  plt.show()\n",
        "\n",
        "  print(\"traing accuracy:\",(len(X)-error)/len(X))\n",
        "  print(\"iteration:\",count)\n",
        "  print('PLA time is ',end - start)\n",
        "  return w\n",
        "\n",
        "def Pocket(max_time=10000):\n",
        "  start = time.time()\n",
        "  data = np.array(data_Pocket_train)\n",
        "  X = data[:,:-1]\n",
        "  correct_Y = data[:,-1]\n",
        "\n",
        "  w = np.zeros(3)\n",
        "  count = 0\n",
        "  \n",
        "  min_w = w\n",
        "  min_error = len(X)\n",
        "\n",
        "  while count < max_time:#算法循环开始\n",
        "    count += 1\n",
        "    error = 0\n",
        "    flag = 0\n",
        "    error_list = []\n",
        "    for i in range(0,len(data)):  \n",
        "      now_Y = sign(np.dot(w,X[i]))\n",
        "      if correct_Y[i] == now_Y:\n",
        "        continue\n",
        "      else:\n",
        "        error_list.append([X[i],correct_Y[i]])  #记录error数据\n",
        "      error += 1\n",
        "\n",
        "    if error == 0:\n",
        "      min_error = 0\n",
        "      break\n",
        "    else:\n",
        "      if error < min_error:\n",
        "        min_error = error\n",
        "        min_w = w\n",
        "\n",
        "    error_sample = random.choice(error_list)  #随机取一个error对w更新\n",
        "    w += error_sample[0] * error_sample[1]\n",
        "    \n",
        "  print(\"\\nPocket\")\n",
        "  print(\"Min_w equal to:\",min_w)\n",
        "  end = time.time()\n",
        "\n",
        "  plot_x = np.linspace(-10,10,1000)\n",
        "  plot_y = -(min_w[1]/min_w[2])*plot_x - min_w[0]/min_w[2]\n",
        "  plt.plot(plot_x, plot_y)\n",
        "  plt.scatter(X[:, 1], X[:, 2])\n",
        "  plt.show()\n",
        "\n",
        "  print(\"traing accuracy:\",(len(X)-error)/len(X))\n",
        "  print(\"iteration:\",count)\n",
        "  print('Pocket time is ',end - start)\n",
        "  return min_w\n",
        "\n",
        "def PLA_Test(w):\n",
        "  data = np.array(data_PLA_test)\n",
        "  X = data[:,:-1]\n",
        "  correct_Y = data[:,-1]\n",
        "  error = 0\n",
        "  for i in range(0,len(data)):\n",
        "    now_Y = sign(np.dot(w,X[i]))\n",
        "    if correct_Y[i] == now_Y:\n",
        "      continue\n",
        "    error += 1\n",
        "  print(\"\\nPLA test accuracy:\",(len(X)-error)/len(X))\n",
        "\n",
        "def Pocket_Test(w):\n",
        "  data = np.array(data_Pocket_test)\n",
        "  X = data[:,:-1]\n",
        "  correct_Y = data[:,-1]\n",
        "  error = 0\n",
        "  for i in range(0,len(data)):\n",
        "    now_Y = sign(np.dot(w,X[i]))\n",
        "    if correct_Y[i] == now_Y:\n",
        "      continue\n",
        "    error += 1\n",
        "  print(\"\\nPocket test accuracy:\",(len(X)-error)/len(X))\n",
        "\n",
        "\n",
        "PLA_w = PLA()\n",
        "Pocket_w = Pocket()\n",
        "PLA_Test(PLA_w)\n",
        "Pocket_Test(Pocket_w)"
      ],
      "execution_count": null,
      "outputs": [
        {
          "output_type": "stream",
          "name": "stdout",
          "text": [
            "\n",
            "PLA\n",
            "W equal to: [-1.         -5.12868649 -6.78720378]\n"
          ]
        },
        {
          "output_type": "display_data",
          "data": {
            "image/png": "[encoded data removed]",
            "text/plain": [
              "<Figure size 432x288 with 1 Axes>"
            ]
          },
          "metadata": {
            "needs_background": "light"
          }
        },
        {
          "output_type": "stream",
          "name": "stdout",
          "text": [
            "traing accuracy: 1.0\n",
            "iteration: 4\n",
            "PLA time is  0.004555940628051758\n",
            "\n",
            "Pocket\n",
            "Min_w equal to: [-1.         -5.02037227 -7.06631321]\n"
          ]
        },
        {
          "output_type": "display_data",
          "data": {
            "image/png": "[encoded data removed]",
            "text/plain": [
              "<Figure size 432x288 with 1 Axes>"
            ]
          },
          "metadata": {
            "needs_background": "light"
          }
        },
        {
          "output_type": "stream",
          "name": "stdout",
          "text": [
            "traing accuracy: 1.0\n",
            "iteration: 8\n",
            "Pocket time is  0.011993169784545898\n",
            "\n",
            "PLA test accuracy: 1.0\n",
            "\n",
            "Pocket test accuracy: 1.0\n"
          ]
        }
      ]
    },
    {
      "cell_type": "markdown",
      "metadata": {
        "id": "5NmZbkSEVnyo"
      },
      "source": [
        "三、更改数据均值"
      ]
    },
    {
      "cell_type": "code",
      "metadata": {
        "colab": {
          "base_uri": "https://localhost:8080/",
          "height": 780
        },
        "id": "ONFg0pSXu5_v",
        "outputId": "de4745a6-fe84-4856-861b-16c854bd4c34"
      },
      "source": [
        "import numpy as np\n",
        "import matplotlib.pyplot as plt\n",
        "import random\n",
        "import time\n",
        "\n",
        "X1 = np.random.multivariate_normal((1,0), [[1,0],[0,1]], (200,), 'ignore')#二维正态分布\n",
        "\n",
        "X2 = np.random.multivariate_normal((0,1), [[1,0],[0,1]], (200,), 'ignore')\n",
        "\n",
        "X1_train = X1[:-40]\n",
        "X1_test = X1[-40:]\n",
        "X2_train = X2[:-40]\n",
        "X2_test = X2[-40:]\n",
        "\n",
        "data_PLA_train = np.vstack((np.c_[np.ones(len(X1_train)),X1_train,np.ones(len(X1_train))],\\ \n",
        "            np.c_[np.ones(len(X2_train)),X2_train,[-1] * len(X2_train)]))#合并数据\n",
        "data_PLA_train = np.random.permutation(data_PLA_train)        #对数据集进行随机排序\n",
        "data_Pocket_train = data_PLA_train\n",
        "\n",
        "data_PLA_test = np.vstack((np.c_[np.ones(len(X1_test)),X1_test,np.ones(len(X1_test))],\\\n",
        "            np.c_[np.ones(len(X2_test)),X2_test,[-1] * len(X2_test)]))\n",
        "\n",
        "data_Pocket_test = data_PLA_test\n",
        "\n",
        "def sign(num):\n",
        "  if num>=0:\n",
        "    return 1\n",
        "  else:\n",
        "    return -1\n",
        "\n",
        "def PLA(max_time=100000):\n",
        "  start = time.time()\n",
        "  data = np.array(data_PLA_train)\n",
        "  X = data[:,:-1]\n",
        "  correct_Y = data[:,-1]\n",
        "\n",
        "  w = np.zeros(3);\n",
        "  count = 0\n",
        "  error = 0\n",
        "  while count < max_time: #算法循环开始\n",
        "    count += 1\n",
        "    error = 0\n",
        "    flag = 0\n",
        "    for i in range(0,len(data)):  \n",
        "      if(flag == 1):\n",
        "        break\n",
        "      now_Y = sign(np.dot(w,X[i]))\n",
        "      if correct_Y[i] == now_Y:\n",
        "        continue\n",
        "      error += 1\n",
        "      w += X[i] * correct_Y[i]\n",
        "      flag = 1\n",
        "    if error == 0:\n",
        "      break\n",
        "  print(\"\\nPLA\")\n",
        "  print(\"W equal to:\",w)\n",
        "  end = time.time()\n",
        "  \n",
        "  plot_x = np.linspace(-2,2,1000)\n",
        "  plot_y = -(w[1]/w[2])*plot_x - w[0]/w[2]\n",
        "  plt.plot(plot_x, plot_y)\n",
        "  plt.scatter(X[:, 1], X[:, 2])\n",
        "  plt.show()\n",
        "\n",
        "  for i in range(0,len(data)):\n",
        "    now_Y = sign(np.dot(w,X[i]))\n",
        "    if correct_Y[i] == now_Y:\n",
        "      continue\n",
        "    error += 1\n",
        "  print(\"traing accuracy:\",(len(X)-error)/len(X))\n",
        "  print(\"iteration:\",count)\n",
        "  print('PLA time is ',end - start)\n",
        "  return w\n",
        "\n",
        "def Pocket(max_time=100000):\n",
        "  start = time.time()\n",
        "  data = np.array(data_Pocket_train)\n",
        "  X = data[:,:-1]\n",
        "  correct_Y = data[:,-1]\n",
        "\n",
        "  w = np.zeros(3)\n",
        "  count = 0\n",
        "  \n",
        "  min_w = w\n",
        "  min_error = len(X)\n",
        "\n",
        "  while count < max_time:   #算法循环开始\n",
        "    count += 1\n",
        "    error = 0\n",
        "    flag = 0\n",
        "    error_list = []\n",
        "    for i in range(0,len(data)):\n",
        "      now_Y = sign(np.dot(w,X[i]))\n",
        "      if correct_Y[i] == now_Y:\n",
        "        continue\n",
        "      else:\n",
        "        error_list.append([X[i],correct_Y[i]])  #记录error数据\n",
        "      error += 1\n",
        "\n",
        "    if error == 0:\n",
        "      min_error = 0\n",
        "      break\n",
        "    else:\n",
        "      if error < min_error:\n",
        "        min_error = error\n",
        "        min_w = w\n",
        "\n",
        "    error_sample = random.choice(error_list)  #随机取一个error对w更新\n",
        "    w += error_sample[0] * error_sample[1]\n",
        "    \n",
        "  print(\"\\nPocket\")\n",
        "  print(\"Min_w equal to:\",min_w)\n",
        "  end = time.time()\n",
        "\n",
        "  plot_x = np.linspace(-2,2,1000)\n",
        "  plot_y = -(min_w[1]/min_w[2])*plot_x - min_w[0]/min_w[2]\n",
        "  plt.plot(plot_x, plot_y)\n",
        "  plt.scatter(X[:, 1], X[:, 2])\n",
        "  plt.show()\n",
        "\n",
        "  error = 0\n",
        "  for i in range(0,len(data)):\n",
        "    now_Y = sign(np.dot(min_w,X[i]))\n",
        "    if correct_Y[i] == now_Y:\n",
        "      continue\n",
        "    error += 1\n",
        "  print(\"traing accuracy:\",(len(X)-error)/len(X))\n",
        "  print(\"iteration:\",count)\n",
        "  print('Pocket time is ',end - start)\n",
        "  return min_w\n",
        "\n",
        "def PLA_Test(w):\n",
        "  data = np.array(data_PLA_test)\n",
        "  X = data[:,:-1]\n",
        "  correct_Y = data[:,-1]\n",
        "  error = 0\n",
        "  for i in range(0,len(data)):\n",
        "    now_Y = sign(np.dot(w,X[i]))\n",
        "    if correct_Y[i] == now_Y:\n",
        "      continue\n",
        "    error += 1\n",
        "  print(\"\\nPLA test accuracy:\",(len(X)-error)/len(X))\n",
        "\n",
        "def Pocket_Test(w):\n",
        "  data = np.array(data_Pocket_test)\n",
        "  X = data[:,:-1]\n",
        "  correct_Y = data[:,-1]\n",
        "  error = 0\n",
        "  for i in range(0,len(data)):\n",
        "    now_Y = sign(np.dot(w,X[i]))\n",
        "    if correct_Y[i] == now_Y:\n",
        "      continue\n",
        "    error += 1\n",
        "  print(\"\\nPocket test accuracy:\",(len(X)-error)/len(X))\n",
        "\n",
        "\n",
        "PLA_w = PLA()\n",
        "Pocket_w = Pocket()\n",
        "PLA_Test(PLA_w)\n",
        "Pocket_Test(Pocket_w)"
      ],
      "execution_count": null,
      "outputs": [
        {
          "output_type": "stream",
          "name": "stdout",
          "text": [
            "\n",
            "PLA\n",
            "W equal to: [ 0.          1.49103992 -3.12913657]\n"
          ]
        },
        {
          "output_type": "display_data",
          "data": {
            "image/png": "[encoded data removed]",
            "text/plain": [
              "<Figure size 432x288 with 1 Axes>"
            ]
          },
          "metadata": {
            "needs_background": "light"
          }
        },
        {
          "output_type": "stream",
          "name": "stdout",
          "text": [
            "traing accuracy: 0.76875\n",
            "iteration: 100000\n",
            "PLA time is  1.5718629360198975\n",
            "\n",
            "Pocket\n",
            "Min_w equal to: [ 0.          1.89939287 -2.49311133]\n"
          ]
        },
        {
          "output_type": "display_data",
          "data": {
            "image/png": "[encoded data removed]",
            "text/plain": [
              "<Figure size 432x288 with 1 Axes>"
            ]
          },
          "metadata": {
            "needs_background": "light"
          }
        },
        {
          "output_type": "stream",
          "name": "stdout",
          "text": [
            "traing accuracy: 0.790625\n",
            "iteration: 100000\n",
            "Pocket time is  84.47662734985352\n",
            "\n",
            "PLA test accuracy: 0.7375\n",
            "\n",
            "Pocket test accuracy: 0.75\n"
          ]
        }
      ]
    },
    {
      "cell_type": "markdown",
      "metadata": {
        "id": "8ulcuU-gSnbi"
      },
      "source": [
        "\n",
        "\n",
        "\n",
        "\n",
        "四、改变算法中的各类超参数、样本数量、样本分布等，讨论实验结果。"
      ]
    },
    {
      "cell_type": "markdown",
      "metadata": {
        "id": "Il7kypz4S91y"
      },
      "source": [
        "1. 当Pocket迭代次数从100->100000的增加过程中正确率提高，但在1000后趋于稳定\n",
        "2. 样本分布得越密集结果越差，分布越开结果越好。样本分布越密集，Pocket算法越比PLA算法优秀\n",
        "3. 样本越多，PLA越有可能无法得到最好结果，得达到迭代次数才会停止"
      ]
    }
  ]
}